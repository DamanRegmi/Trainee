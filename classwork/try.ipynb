{
 "cells": [
  {
   "cell_type": "markdown",
   "metadata": {},
   "source": [
    "# Learning\n"
   ]
  },
  {
   "cell_type": "code",
   "execution_count": 2,
   "metadata": {},
   "outputs": [],
   "source": [
    "import requests\n",
    "from bs4 import BeautifulSoup"
   ]
  },
  {
   "cell_type": "code",
   "execution_count": 3,
   "metadata": {},
   "outputs": [],
   "source": [
    "r=requests.get(\"https://wholesale.com.np/category/index/laptops-computers?subcat=LAPTOPS\")\n"
   ]
  },
  {
   "cell_type": "code",
   "execution_count": 4,
   "metadata": {},
   "outputs": [
    {
     "data": {
      "text/plain": [
       "200"
      ]
     },
     "execution_count": 4,
     "metadata": {},
     "output_type": "execute_result"
    }
   ],
   "source": [
    "r.status_code"
   ]
  },
  {
   "cell_type": "code",
   "execution_count": 5,
   "metadata": {},
   "outputs": [
    {
     "name": "stdout",
     "output_type": "stream",
     "text": [
      "<Response [200]>\n"
     ]
    }
   ],
   "source": [
    "print(r)"
   ]
  },
  {
   "cell_type": "code",
   "execution_count": null,
   "metadata": {},
   "outputs": [],
   "source": [
    "# print(r.content.decode('utf-8'))"
   ]
  },
  {
   "cell_type": "code",
   "execution_count": 6,
   "metadata": {},
   "outputs": [],
   "source": [
    "soup=BeautifulSoup(r.text,'lxml')\n",
    "# print(soup.prettify())"
   ]
  },
  {
   "cell_type": "code",
   "execution_count": null,
   "metadata": {},
   "outputs": [],
   "source": [
    "whole= soup.find_all(\"div\",class_=\"caption\")\n",
    "print(whole)"
   ]
  },
  {
   "cell_type": "markdown",
   "metadata": {},
   "source": [
    "above data in list"
   ]
  },
  {
   "cell_type": "code",
   "execution_count": null,
   "metadata": {},
   "outputs": [
    {
     "name": "stdout",
     "output_type": "stream",
     "text": [
      "['\\nHP 240 G4 I5-6200/ 4GB RAM (V3F08PA)\\nRs. 56000 Rs 57000\\n', '\\nDELL INSPIRON 15 5559-I5-4GB RAM\\nRs. 62990 Rs 63990\\n', '\\nDELL INSPIRON 15 5559-I5-4GB\\nRs. 58990 Rs 59990\\n', '\\nDELL INPSIRATION 3459 -I5-4GB RAM\\nRs. 53490 Rs 54490\\n', '\\nDELL INSPIRON 3558-I3-4GB RAM-500GB HARD DISK\\nRs. 40500 Rs 41500\\n', '\\nDELL INSPIRON 3458-I3\\nRs. 40490 Rs 41490\\n', '\\nDELL INSPIRON 11 3147   CELRON WITH TOUCH DISPLAY\\nRs. 40990 Rs 41990\\n', '\\nDELL INSPIRON 15 3551 / 2 GB RAM / 15.6 DISPLAY\\nRs. 35850 Rs 36850\\n', '\\nDELL INSPIRON 15 5559 6TH GEN CI7 8GB 1TB 4GB ATI R5 M335 15.6\\nRs. 80400 Rs 81400\\n', '\\nACER ASPIRE V13 371\\nRs. 66900 Rs 67900\\n', '\\nASUS XMA 200\\nRs. 38405 Rs 39405\\n', '\\nHP 242\\nRs. 77750 Rs 78750\\n', '\\nHP PROBOOK 440\\nRs. 68999 Rs 69999\\n', '\\nLENOVO 5080 I5-500\\nRs. 54000 Rs 55000\\n', '\\nLENOVO G40 70 | CORE I3 | 500 GB HDD\\nRs. 35590 Rs 36590\\n', '\\nLENOVO G4080  I3/ 500GB/ BLACK/ 4GB/ WIN10\\nRs. 35990 Rs 36990\\n', '\\nLENOVO IDEAPAD 100-I3-500-4-U-WIN10\\nRs. 37000 Rs 38000\\n', '\\nLENOVO G SERIES\\nRs. 54000 Rs 55000\\n', '\\nAPPLE MACBOOK PRO 13 INCH 4GB RAM & 500 GB HD\\nRs. 127000 Rs 133000\\n']\n"
     ]
    }
   ],
   "source": [
    "details=[]\n",
    "\n",
    "for i in whole:\n",
    "    detail = i.text\n",
    "    details.append(detail)\n",
    "print (details)    "
   ]
  },
  {
   "cell_type": "code",
   "execution_count": null,
   "metadata": {},
   "outputs": [],
   "source": [
    "ribbons= soup.find_all(\"div\",class_=\"off-ribbon\")\n",
    "print(ribbons)"
   ]
  },
  {
   "cell_type": "markdown",
   "metadata": {},
   "source": [
    "ribbons storing in list called rib_values"
   ]
  },
  {
   "cell_type": "code",
   "execution_count": 59,
   "metadata": {},
   "outputs": [
    {
     "name": "stdout",
     "output_type": "stream",
     "text": [
      "['\\n2% Off\\n', '\\n2% Off\\n', '\\n2% Off\\n', '\\n2% Off\\n', '\\n2% Off\\n', '\\n2% Off\\n', '\\n2% Off\\n', '\\n3% Off\\n', '\\n1% Off\\n', '\\n1% Off\\n', '\\n3% Off\\n', '\\n1% Off\\n', '\\n1% Off\\n', '\\n2% Off\\n', '\\n3% Off\\n', '\\n3% Off\\n', '\\n3% Off\\n', '\\n2% Off\\n', '\\n5% Off\\n']\n"
     ]
    }
   ],
   "source": [
    "rib_values=[]\n",
    "for i in ribbons:\n",
    "    ribbon=i.text\n",
    "    rib_values.append(ribbon)\n",
    "print(rib_values)    "
   ]
  },
  {
   "cell_type": "markdown",
   "metadata": {},
   "source": [
    "Creating dataframe"
   ]
  },
  {
   "cell_type": "code",
   "execution_count": null,
   "metadata": {},
   "outputs": [],
   "source": [
    "import pandas as pd\n",
    "\n",
    "df=pd.DataFrame({\"Description\":details,\"Ribbons\":rib_values})\n",
    "df = df.replace(r'\\n',' ', regex=True) \n",
    "print(df)"
   ]
  },
  {
   "cell_type": "markdown",
   "metadata": {},
   "source": [
    "for single block of each products"
   ]
  },
  {
   "cell_type": "code",
   "execution_count": 103,
   "metadata": {},
   "outputs": [
    {
     "name": "stdout",
     "output_type": "stream",
     "text": [
      "19\n"
     ]
    }
   ],
   "source": [
    "from bs4 import BeautifulSoup\n",
    "import requests\n",
    "\n",
    "r=requests.get(\"https://wholesale.com.np/category/index/laptops-computers?subcat=LAPTOPS\")\n",
    "\n",
    "soup = BeautifulSoup(r.text,\"lxml\")\n",
    "\n",
    "boxes=soup.find_all(\"div\",class_=\"col-sm-4 col-md-3\")\n",
    "print(len(boxes))\n"
   ]
  },
  {
   "cell_type": "code",
   "execution_count": 104,
   "metadata": {},
   "outputs": [
    {
     "name": "stdout",
     "output_type": "stream",
     "text": [
      "HP 240 G4 I5-6200/ 4GB RAM (V3F08PA)\n"
     ]
    }
   ],
   "source": [
    "box=soup.find_all(\"div\",class_=\"col-sm-4 col-md-3\")[0]\n",
    "# print(box)\n",
    "\n",
    "name= box.find(\"p\").text\n",
    "print(name)\n",
    "\n"
   ]
  },
  {
   "cell_type": "code",
   "execution_count": 121,
   "metadata": {},
   "outputs": [
    {
     "name": "stdout",
     "output_type": "stream",
     "text": [
      "Rs. 56000 Rs 57000\n",
      "Rs 57000\n"
     ]
    }
   ],
   "source": [
    "p=soup.find(\"p\",class_=\"price\").text\n",
    "print(p)\n",
    "cut_p=soup.find(\"strike\").text\n",
    "print(cut_p)"
   ]
  }
 ],
 "metadata": {
  "kernelspec": {
   "display_name": "base",
   "language": "python",
   "name": "python3"
  },
  "language_info": {
   "codemirror_mode": {
    "name": "ipython",
    "version": 3
   },
   "file_extension": ".py",
   "mimetype": "text/x-python",
   "name": "python",
   "nbconvert_exporter": "python",
   "pygments_lexer": "ipython3",
   "version": "3.11.5"
  }
 },
 "nbformat": 4,
 "nbformat_minor": 2
}
