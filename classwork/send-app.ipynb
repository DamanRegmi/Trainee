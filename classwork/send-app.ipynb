{
 "cells": [
  {
   "cell_type": "code",
   "execution_count": 19,
   "metadata": {},
   "outputs": [],
   "source": [
    "# CSV read\n",
    "# Loop items\n",
    "# - send item to fastapi\n",
    "\n",
    "import requests\n",
    "import pandas as pd\n",
    "import json\n",
    "\n",
    "\n",
    "cv_file=\"scrapped_products copy.csv\"\n",
    "\n",
    "df= pd.read_csv(cv_file)\n"
   ]
  },
  {
   "cell_type": "code",
   "execution_count": null,
   "metadata": {},
   "outputs": [
    {
     "name": "stdout",
     "output_type": "stream",
     "text": [
      "Row 1: Successfully posted product: SAMSUNG A5 (A5000H) / 2GB RAM/ 13MP CAMERA /16 GB MEMORY\n",
      "Row 2: Successfully posted product: SAMSUNG J7 (J700H)\n",
      "Row 3: Successfully posted product: SAMSUNG TAB J MAX (T285)\n",
      "Row 4: Successfully posted product: SAMSUNG J3 (J320F) 2016\n",
      "Row 5: Successfully posted product: SAMSUNG TAB 3V (T116)\n",
      "Row 6: Failed to post product: SAMSUNG J200H (J2), Error: {\"detail\":\"Category 'tablet' is not allowed. Must be one of {'mobile', 'laptop'}\"}\n",
      "Row 7: Successfully posted product: SAMSUNG J110H (J1 ACE)\n",
      "Row 8: Successfully posted product: SAMSUNG G318HZ (ACE NXT 2)\n",
      "Row 9: Successfully posted product: LENOVO IDEAPAD 100-I3-500-4-U-WIN10\n"
     ]
    }
   ],
   "source": [
    "allowed_categories={\"mobile\",\"laptop\"}\n",
    "for index,row in df.iterrows():\n",
    "    category=row.get(\"Category\")\n",
    "\n",
    "    product = dict(row)\n",
    "    # print(product)\n",
    "    data = {\n",
    "        \"name\": product[\"Name\"],\n",
    "        \"quantity\": 100,\n",
    "        \"price\":product[\"Newprice\"],\n",
    "        \"category\":product[\"Category\"]\n",
    "    }\n",
    "    response = requests.post(\"http://localhost:8000/products\",json=data)\n",
    "    if response.status_code != 200:\n",
    "        print(f\"Row {index + 1}: Failed to post product: {data['name']}, Error: {response.text}\")\n",
    "    else:\n",
    "        print(f\"Row {index + 1}: Successfully posted product: {data['name']}\")\n",
    "        \n",
    "        "
   ]
  },
  {
   "cell_type": "code",
   "execution_count": 21,
   "metadata": {},
   "outputs": [
    {
     "name": "stdout",
     "output_type": "stream",
     "text": [
      "{'name': 'SAMSUNG A5 (A5000H) / 2GB RAM/ 13MP CAMERA /16 GB MEMORY', 'quantity': 100, 'price': 23441, 'category': 'mobile'}\n",
      "{'name': 'SAMSUNG J7 (J700H)', 'quantity': 100, 'price': 20911, 'category': 'mobile'}\n",
      "{'name': 'SAMSUNG TAB J MAX (T285)', 'quantity': 100, 'price': 19899, 'category': 'mobile'}\n",
      "{'name': 'SAMSUNG J3 (J320F) 2016', 'quantity': 100, 'price': 15841, 'category': 'mobile'}\n",
      "{'name': 'SAMSUNG TAB 3V (T116)', 'quantity': 100, 'price': 14700, 'category': 'mobile'}\n",
      "{'name': 'SAMSUNG J200H (J2)', 'quantity': 100, 'price': 11700, 'category': 'tablet'}\n",
      "{'name': 'SAMSUNG J110H (J1 ACE)', 'quantity': 100, 'price': 8921, 'category': 'mobile'}\n",
      "{'name': 'SAMSUNG G318HZ (ACE NXT 2)', 'quantity': 100, 'price': 8066, 'category': 'mobile'}\n",
      "{'name': 'LENOVO IDEAPAD 100-I3-500-4-U-WIN10', 'quantity': 100, 'price': 37000, 'category': 'laptop'}\n"
     ]
    }
   ],
   "source": [
    "for _,row in df.iterrows():\n",
    "    product = dict(row)\n",
    "    # print(product)\n",
    "    data = {\n",
    "        \"name\": product[\"Name\"],\n",
    "        \"quantity\": 100,\n",
    "        \"price\":product[\"Newprice\"],\n",
    "        \"category\":product[\"Category\"]\n",
    "    }\n",
    "    response = requests.post(\"http://localhost:8000/products\",json=data)\n",
    "    # print(response.status_code)\n",
    "    print(data)\n",
    "    "
   ]
  }
 ],
 "metadata": {
  "kernelspec": {
   "display_name": "base",
   "language": "python",
   "name": "python3"
  },
  "language_info": {
   "codemirror_mode": {
    "name": "ipython",
    "version": 3
   },
   "file_extension": ".py",
   "mimetype": "text/x-python",
   "name": "python",
   "nbconvert_exporter": "python",
   "pygments_lexer": "ipython3",
   "version": "3.11.5"
  }
 },
 "nbformat": 4,
 "nbformat_minor": 2
}
