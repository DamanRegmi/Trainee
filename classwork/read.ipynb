{
 "cells": [
  {
   "cell_type": "markdown",
   "metadata": {},
   "source": [
    "# Read SQLite\n",
    "\n",
    "```sql\n",
    "CREATE TABLE IF NOT EXISTS products(\n",
    "    tag TEXT,\n",
    "    name TEXT,\n",
    "    feature TEXT ,\n",
    "    oldprice TEXT , --Number\n",
    "    newprice TEXT, --Number\n",
    "    category TEXT,\n",
    "    imgurl TEXT\n",
    ")\n",
    "```"
   ]
  },
  {
   "cell_type": "code",
   "execution_count": null,
   "metadata": {},
   "outputs": [],
   "source": [
    "import sqlite3\n",
    "conn=sqlite3.connect(\"scrapped.db\")\n",
    "cursor=conn.cursor()\n",
    "cursor.execute(\"SELECT * FROM products\")\n",
    "products=cursor.fetchall()\n",
    "print(products)\n",
    "\n"
   ]
  },
  {
   "cell_type": "code",
   "execution_count": 9,
   "metadata": {},
   "outputs": [
    {
     "name": "stdout",
     "output_type": "stream",
     "text": [
      "2 % off\n",
      "DELL INSPIRON 15 5559-I5-4GB RAM\n",
      "RAM : 4GB \n",
      " Display : 11.0 \n",
      " Processor : I5 \n",
      " Screen Size :  \n",
      " Warranty : 2 years\n",
      "Old Price: Rs. 63990 \n",
      "Price: Rs \n",
      "\n",
      "\n",
      "\n",
      "\n",
      "\n",
      "62990\n",
      "laptop\n",
      "https://wholesale.com.np/wholesale_adityaraj_group/public/img/product/57d7c4fc50198_DELL-5559-PRICE-IN-nepal.jpg\n"
     ]
    }
   ],
   "source": [
    "for product in products:\n",
    "    for value in product:\n",
    "        print(value)\n",
    "    break"
   ]
  },
  {
   "cell_type": "markdown",
   "metadata": {},
   "source": [
    "# Scrapper"
   ]
  },
  {
   "cell_type": "code",
   "execution_count": 27,
   "metadata": {},
   "outputs": [],
   "source": [
    "from bs4 import BeautifulSoup\n",
    "import requests\n",
    "import pandas as pd\n",
    "\n",
    "r=requests.get(\"https://wholesale.com.np/category/index/laptops-computers?subcat=LAPTOPS\")\n",
    "\n",
    "soup = BeautifulSoup(r.text, \"html\")\n",
    "# print(soup.prettify())"
   ]
  },
  {
   "cell_type": "code",
   "execution_count": 28,
   "metadata": {},
   "outputs": [
    {
     "name": "stdout",
     "output_type": "stream",
     "text": [
      "19\n"
     ]
    }
   ],
   "source": [
    "\n",
    "productlist=soup.find_all('div',class_=\"col-sm-4 col-md-3\")\n",
    "productlinks=[]\n",
    "\n",
    "for link in productlist:\n",
    "    href_link=link.find('a')['href']\n",
    "    productlinks.append(href_link)\n",
    "\n",
    "print(len(productlinks))"
   ]
  },
  {
   "cell_type": "code",
   "execution_count": 29,
   "metadata": {},
   "outputs": [],
   "source": [
    "link = productlinks[18]\n",
    "response = requests.get(link)\n",
    "soup=BeautifulSoup(response.text,\"html\")"
   ]
  },
  {
   "cell_type": "code",
   "execution_count": 30,
   "metadata": {},
   "outputs": [],
   "source": [
    "tag=soup.find('div',class_='off-ribbon-inner').text.strip()\n",
    "# print(tag)\n",
    "name=soup.find('h1').text\n",
    "# print(name)\n",
    "feature=soup.find('div',class_=\"main-feature\").text.strip()\n",
    "# print(feature)\n",
    "oldprice=soup.find('span',class_='p-price').text\n",
    "# print(oldprice)\n",
    "newprice=soup.find('span',class_='price').text.strip()\n",
    "# print(newprice)\n",
    "category='laptop'\n",
    "imgurl=soup.find('img',class_='simpleLens-big-image')['src']"
   ]
  },
  {
   "cell_type": "code",
   "execution_count": null,
   "metadata": {},
   "outputs": [
    {
     "name": "stdout",
     "output_type": "stream",
     "text": [
      "Old Price: Rs. 133000 \n"
     ]
    }
   ],
   "source": [
    "print(oldprice) # Pull Number\n",
    "print(newprice) # Pull Number"
   ]
  },
  {
   "cell_type": "code",
   "execution_count": 21,
   "metadata": {},
   "outputs": [
    {
     "name": "stdout",
     "output_type": "stream",
     "text": [
      "12 % off\n"
     ]
    }
   ],
   "source": [
    "tag=soup.find('div',class_='off-ribbon-inner').text.strip()\n",
    "print(tag)"
   ]
  },
  {
   "cell_type": "code",
   "execution_count": null,
   "metadata": {},
   "outputs": [
    {
     "name": "stdout",
     "output_type": "stream",
     "text": [
      "None\n"
     ]
    }
   ],
   "source": [
    "name_tag=soup.find('h1')\n",
    "if name_tag is None:\n",
    "    name = \n",
    "print(name_tag)\n",
    "# .text\n",
    "# print(name)"
   ]
  },
  {
   "cell_type": "code",
   "execution_count": null,
   "metadata": {},
   "outputs": [],
   "source": [
    "feature=soup.find('div',class_=\"main-feature\").text.strip()"
   ]
  },
  {
   "cell_type": "code",
   "execution_count": null,
   "metadata": {},
   "outputs": [],
   "source": [
    "\n",
    "\n",
    "laptoplist=[]\n",
    "for link in productlinks:\n",
    "    r=requests.get(link)\n",
    "\n",
    "    soup=BeautifulSoup(r.text,\"lxml\")\n",
    "    tag=soup.find('div',class_='off-ribbon-inner').text.strip()\n",
    "    # print(tag)\n",
    "    name=soup.find('h1').text\n",
    "    # print(name)\n",
    "    feature=soup.find('div',class_=\"main-feature\").text.strip()\n",
    "    # print(feature)\n",
    "    oldprice=soup.find('span',class_='p-price').text\n",
    "    # print(oldprice)\n",
    "    newprice=soup.find('span',class_='price').text.strip()\n",
    "    # print(newprice)\n",
    "    category='laptop'\n",
    "    imgurl=soup.find('img',class_='simpleLens-big-image')['src']\n",
    "    # print(imgurl)\n",
    "    laptop={\n",
    "        'tag':tag,\n",
    "        'name':name,\n",
    "        'feature':feature,\n",
    "        'oldprice':oldprice,\n",
    "        'newprice':newprice,\n",
    "        'category':category,\n",
    "        'imgurl':imgurl\n",
    "    }\n",
    "    # print(laptop)\n",
    "    laptoplist.append(laptop)\n",
    "\n",
    "df1=pd.DataFrame(laptoplist)  \n",
    "print(df1.replace(r'\\n',' ', regex=True))\n"
   ]
  }
 ],
 "metadata": {
  "kernelspec": {
   "display_name": "base",
   "language": "python",
   "name": "python3"
  },
  "language_info": {
   "codemirror_mode": {
    "name": "ipython",
    "version": 3
   },
   "file_extension": ".py",
   "mimetype": "text/x-python",
   "name": "python",
   "nbconvert_exporter": "python",
   "pygments_lexer": "ipython3",
   "version": "3.11.5"
  }
 },
 "nbformat": 4,
 "nbformat_minor": 2
}
