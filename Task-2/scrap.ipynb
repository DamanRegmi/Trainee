{
 "cells": [
  {
   "cell_type": "markdown",
   "metadata": {},
   "source": [
    "# Not using function (Need improvement) \n"
   ]
  },
  {
   "cell_type": "code",
   "execution_count": 28,
   "metadata": {},
   "outputs": [],
   "source": [
    "from bs4 import BeautifulSoup\n",
    "import requests\n",
    "\n",
    "r=requests.get(\"https://wholesale.com.np/category/index/laptops-computers?subcat=LAPTOPS\")\n",
    "\n",
    "soup = BeautifulSoup(r.text,\"lxml\")"
   ]
  },
  {
   "cell_type": "markdown",
   "metadata": {},
   "source": [
    "finding links fro single 1st product"
   ]
  },
  {
   "cell_type": "code",
   "execution_count": null,
   "metadata": {},
   "outputs": [
    {
     "name": "stdout",
     "output_type": "stream",
     "text": [
      "https://wholesale.com.np/product/details/hp-240-g4-i5-6200-4gb-500gb-312.html\n"
     ]
    }
   ],
   "source": [
    "details=soup.find(\"div\",class_=\"col-sm-4 col-md-3\")\n",
    "# print(details.text.strip())\n",
    "links=details.find(\"a\")\n",
    "print(links['href'])\n",
    "\n",
    "   "
   ]
  },
  {
   "cell_type": "code",
   "execution_count": null,
   "metadata": {},
   "outputs": [
    {
     "name": "stdout",
     "output_type": "stream",
     "text": [
      "2 % off\n",
      "HP 240 G4 I5-6200/ 4GB RAM (V3F08PA)\n",
      "RAM : 4GB \n",
      " Display : HD BrightView LED-backlit \n",
      " Processor : I5 \n",
      " Screen Size : 14 \n",
      " Warranty : 2 years\n",
      "Old Price: Rs. 57000 \n",
      "Price: Rs \n",
      "\n",
      "\n",
      "\n",
      "\n",
      "\n",
      "56000\n"
     ]
    }
   ],
   "source": [
    "# firstlink=\"https://wholesale.com.np/product/details/hp-240-g4-i5-6200-4gb-500gb-312.html\"\n",
    "\n",
    "# r=requests.get(firstlink)\n",
    "\n",
    "# soup=BeautifulSoup(r.text,\"lxml\")\n",
    "# tag=soup.find('div',class_='off-ribbon-inner').text.strip()\n",
    "# print(tag)\n",
    "# name=soup.find('h1').text\n",
    "# print(name)\n",
    "# feature=soup.find('div',class_=\"main-feature\").text.strip()\n",
    "# print(feature)\n",
    "# oldprice=soup.find('span',class_='p-price').text\n",
    "# print(oldprice)\n",
    "# newprice=soup.find('span',class_='price').text.strip()\n",
    "# print(newprice)"
   ]
  },
  {
   "cell_type": "markdown",
   "metadata": {},
   "source": [
    "multiple product links\n"
   ]
  },
  {
   "cell_type": "code",
   "execution_count": null,
   "metadata": {},
   "outputs": [
    {
     "name": "stdout",
     "output_type": "stream",
     "text": [
      "19\n"
     ]
    }
   ],
   "source": [
    "productlist=soup.find_all('div',class_=\"col-sm-4 col-md-3\")\n",
    "# print(productlist)\n",
    "\n",
    "productlinks=[]\n",
    "\n",
    "for link in productlist:\n",
    "    links=link.find('a')['href']\n",
    "    # print(link)\n",
    "    productlinks.append(links)\n",
    "print(len(productlinks))"
   ]
  },
  {
   "cell_type": "markdown",
   "metadata": {},
   "source": [
    "for all products\n"
   ]
  },
  {
   "cell_type": "code",
   "execution_count": 31,
   "metadata": {},
   "outputs": [
    {
     "name": "stdout",
     "output_type": "stream",
     "text": [
      "        tag                                               name  \\\n",
      "0   2 % off               HP 240 G4 I5-6200/ 4GB RAM (V3F08PA)   \n",
      "1   2 % off                   DELL INSPIRON 15 5559-I5-4GB RAM   \n",
      "2   2 % off                       DELL INSPIRON 15 5559-I5-4GB   \n",
      "3   2 % off                  DELL INPSIRATION 3459 -I5-4GB RAM   \n",
      "4   2 % off      DELL INSPIRON 3558-I3-4GB RAM-500GB HARD DISK   \n",
      "5   2 % off                              DELL INSPIRON 3458-I3   \n",
      "6   2 % off  DELL INSPIRON 11 3147   CELRON WITH TOUCH DISPLAY   \n",
      "7   3 % off    DELL INSPIRON 15 3551 / 2 GB RAM / 15.6 DISPLAY   \n",
      "8   1 % off  DELL INSPIRON 15 5559 6TH GEN CI7 8GB 1TB 4GB ...   \n",
      "9   1 % off                                ACER ASPIRE V13 371   \n",
      "10  3 % off                                       ASUS XMA 200   \n",
      "11  1 % off                                             HP 242   \n",
      "12  1 % off                                     HP PROBOOK 440   \n",
      "13  2 % off                                 LENOVO 5080 I5-500   \n",
      "14  3 % off               LENOVO G40 70 | CORE I3 | 500 GB HDD   \n",
      "15  3 % off         LENOVO G4080  I3/ 500GB/ BLACK/ 4GB/ WIN10   \n",
      "16  3 % off                LENOVO IDEAPAD 100-I3-500-4-U-WIN10   \n",
      "17  2 % off                                    LENOVO G SERIES   \n",
      "18  5 % off      APPLE MACBOOK PRO 13 INCH 4GB RAM & 500 GB HD   \n",
      "\n",
      "                                              feature                oldprice  \\\n",
      "0   RAM : 4GB   Display : HD BrightView LED-backli...   Old Price: Rs. 57000    \n",
      "1   RAM : 4GB   Display : 11.0   Processor : I5   ...   Old Price: Rs. 63990    \n",
      "2   RAM : 4GB   Display :    Processor : I5   Scre...   Old Price: Rs. 59990    \n",
      "3   RAM : 4 GB   Display :    Processor : I5   Scr...   Old Price: Rs. 54490    \n",
      "4   RAM : 4 GB   Display :    Processor : I3   Scr...   Old Price: Rs. 41500    \n",
      "5   RAM : 4 GB   Display : LED Backlit Display wit...   Old Price: Rs. 41490    \n",
      "6   RAM : 4 GB   Display : LED Backlit Touch Displ...   Old Price: Rs. 41990    \n",
      "7   RAM : 2 GB   Display : 1366 X 768   Processor ...   Old Price: Rs. 36850    \n",
      "8   RAM : 16 GB   Display : 1920x1080   Processor ...   Old Price: Rs. 81400    \n",
      "9   RAM : 8 GB   Display : 1366 x 768   Processor ...   Old Price: Rs. 67900    \n",
      "10  RAM : 2 GB   Display : 30.2 x 20.0 x 2.56 cm (...   Old Price: Rs. 39405    \n",
      "11  RAM : 4 GB DDR   Display : diagonal LED-backli...   Old Price: Rs. 78750    \n",
      "12  RAM : 4 GB   Display :    Processor : core i5 ...   Old Price: Rs. 69999    \n",
      "13  RAM : 4 GB   Display : LED   Processor : Intel...   Old Price: Rs. 55000    \n",
      "14  RAM : Memory (RAM): 2 GB   Display :    Proces...   Old Price: Rs. 36590    \n",
      "15  RAM : Memory (RAM): 4GB   Display :    Process...   Old Price: Rs. 36990    \n",
      "16  RAM : Memory (RAM): 4GB   Display :    Process...   Old Price: Rs. 38000    \n",
      "17  RAM : Memory(RAM) : 4GB   Display : 15.6 inche...   Old Price: Rs. 55000    \n",
      "18  RAM : RAM:4GB   Display : Display: HD with Int...  Old Price: Rs. 133000    \n",
      "\n",
      "                  newprice category  \\\n",
      "0    Price: Rs       56000   laptop   \n",
      "1    Price: Rs       62990   laptop   \n",
      "2    Price: Rs       58990   laptop   \n",
      "3    Price: Rs       53490   laptop   \n",
      "4    Price: Rs       40500   laptop   \n",
      "5    Price: Rs       40490   laptop   \n",
      "6    Price: Rs       40990   laptop   \n",
      "7    Price: Rs       35850   laptop   \n",
      "8    Price: Rs       80400   laptop   \n",
      "9    Price: Rs       66900   laptop   \n",
      "10   Price: Rs       38405   laptop   \n",
      "11   Price: Rs       77750   laptop   \n",
      "12   Price: Rs       68999   laptop   \n",
      "13   Price: Rs       54000   laptop   \n",
      "14   Price: Rs       35590   laptop   \n",
      "15   Price: Rs       35990   laptop   \n",
      "16   Price: Rs       37000   laptop   \n",
      "17   Price: Rs       54000   laptop   \n",
      "18  Price: Rs       127000   laptop   \n",
      "\n",
      "                                               imgurl  \n",
      "0   https://wholesale.com.np/wholesale_adityaraj_g...  \n",
      "1   https://wholesale.com.np/wholesale_adityaraj_g...  \n",
      "2   https://wholesale.com.np/wholesale_adityaraj_g...  \n",
      "3   https://wholesale.com.np/wholesale_adityaraj_g...  \n",
      "4   https://wholesale.com.np/wholesale_adityaraj_g...  \n",
      "5   https://wholesale.com.np/wholesale_adityaraj_g...  \n",
      "6   https://wholesale.com.np/wholesale_adityaraj_g...  \n",
      "7   https://wholesale.com.np/wholesale_adityaraj_g...  \n",
      "8   https://wholesale.com.np/wholesale_adityaraj_g...  \n",
      "9   https://wholesale.com.np/wholesale_adityaraj_g...  \n",
      "10  https://wholesale.com.np/wholesale_adityaraj_g...  \n",
      "11  https://wholesale.com.np/wholesale_adityaraj_g...  \n",
      "12  https://wholesale.com.np/wholesale_adityaraj_g...  \n",
      "13  https://wholesale.com.np/wholesale_adityaraj_g...  \n",
      "14  https://wholesale.com.np/wholesale_adityaraj_g...  \n",
      "15  https://wholesale.com.np/wholesale_adityaraj_g...  \n",
      "16  https://wholesale.com.np/wholesale_adityaraj_g...  \n",
      "17  https://wholesale.com.np/wholesale_adityaraj_g...  \n",
      "18  https://wholesale.com.np/wholesale_adityaraj_g...  \n"
     ]
    }
   ],
   "source": [
    "import pandas as pd\n",
    "\n",
    "\n",
    "laptoplist=[]\n",
    "for link in productlinks:\n",
    "    r=requests.get(link)\n",
    "\n",
    "    soup=BeautifulSoup(r.text,\"lxml\")\n",
    "    tag=soup.find('div',class_='off-ribbon-inner').text.strip()\n",
    "    # print(tag)\n",
    "    name=soup.find('h1').text\n",
    "    # print(name)\n",
    "    feature=soup.find('div',class_=\"main-feature\").text.strip()\n",
    "    # print(feature)\n",
    "    oldprice=soup.find('span',class_='p-price').text\n",
    "    # print(oldprice)\n",
    "    newprice=soup.find('span',class_='price').text.strip()\n",
    "    # print(newprice)\n",
    "    category='laptop'\n",
    "    imgurl=soup.find('img',class_='simpleLens-big-image')['src']\n",
    "    # print(imgurl)\n",
    "    laptop={\n",
    "        'tag':tag,\n",
    "        'name':name,\n",
    "        'feature':feature,\n",
    "        'oldprice':oldprice,\n",
    "        'newprice':newprice,\n",
    "        'category':category,\n",
    "        'imgurl':imgurl\n",
    "    }\n",
    "    # print(laptop)\n",
    "    laptoplist.append(laptop)\n",
    "\n",
    "df1=pd.DataFrame(laptoplist)  \n",
    "print(df1.replace(r'\\n',' ', regex=True))\n"
   ]
  },
  {
   "cell_type": "markdown",
   "metadata": {},
   "source": [
    "Mobile"
   ]
  },
  {
   "cell_type": "code",
   "execution_count": 5,
   "metadata": {},
   "outputs": [
    {
     "name": "stdout",
     "output_type": "stream",
     "text": [
      "         tag                                               name oldprice  \\\n",
      "0   12 % off                                   SAMSUNG J7 PRIME    29400   \n",
      "1    9 % off                                      IPHONE 7 PLUS   113550   \n",
      "2   12 % off                                           IPHONE 7    92550   \n",
      "3   14 % off  SAMSUNG GALAXY S7 EDGE  (SM-G935FD)  5\" /32GB ...    88900   \n",
      "4   16 % off                GALAXY S7 (SM-G930FD) 32GB/4GB/12MP    77900   \n",
      "5   12 % off  SAMSUNG GALAXY NOTE 5 DUOS (N9208) 4GB/32GB/ 16MP    86900   \n",
      "6    3 % off   SAMSUNG (G925I) S6 EDGE  5.1″ / 32GB / 3GB /16MP    69657   \n",
      "7    2 % off      SAMSUNG (G920)S6 FLAT 5.1″ / 32GB / 3GB /16MP    59427   \n",
      "8   11 % off  SAMSUNG GALAXY A7 2016 EDITION (A710F)  2GB /1...    50900   \n",
      "9   10 % off             SAMSUNG GALAXY A5 2016 EDITION (A510F)    41900   \n",
      "10   8 % off  SAMSUNG TABLET T561 (TAB E 9.6\") /  2GB RAM/ 8...    27990   \n",
      "11   8 % off  SAMSUNG J7 2016 EDITION (J710F)  16 GB / 2GB R...    27990   \n",
      "12   9 % off  SAMSUNG J5 2016 EDITION (J510F)  16 GB / 2GB R...    25490   \n",
      "13   1 % off  SAMSUNG A5 (A5000H) / 2GB RAM/ 13MP CAMERA /16...    23741   \n",
      "14   9 % off                                 SAMSUNG J7 (J700H)    22900   \n",
      "15   9 % off                           SAMSUNG TAB J MAX (T285)    21900   \n",
      "16   2 % off                            SAMSUNG J3 (J320F) 2016    16141   \n",
      "17  11 % off                              SAMSUNG TAB 3V (T116)    16590   \n",
      "18    No off                                               None     None   \n",
      "19   9 % off                                 SAMSUNG J200H (J2)    12900   \n",
      "20   9 % off                             SAMSUNG J110H (J1 ACE)     9000   \n",
      "21   9 % off                         SAMSUNG G318HZ (ACE NXT 2)     9000   \n",
      "22  74 % off                             SAMSUNG B350E (BANYAN)     3500   \n",
      "23    No off                               SAMSUNG B312E (BRIO)     3062   \n",
      "24   5 % off                          HUAWEI P8 LITE SMARTPHONE    25999   \n",
      "25   7 % off                XIAOMI REDMI 2 PRO GREY SMART PHONE    15999   \n",
      "26   9 % off                         XIAOMI MI 4 3GB/16GB WHITE    18999   \n",
      "27  21 % off  GIONEE MARATHON M5 LITE WITH 3 GB RAM AND 32 G...    19950   \n",
      "28  21 % off         XIAOMI REDMI NOTE 3 3GB/32GB DUAL SIM GRAY    29000   \n",
      "29  38 % off                                    IPHONE 6S 64 GB   130000   \n",
      "30   1 % off                         SAMSUNG GALAXY ALPHA-G850Y    58125   \n",
      "31   1 % off                       SAMSUNG GALAXY S4 (GT-19500)    29990   \n",
      "32   3 % off                      SAMSUNG GALAXY NOTE 4 - N910H    79887   \n",
      "33  26 % off                          SAMSUNG GALAXY J5 - J500H    14999   \n",
      "\n",
      "   newprice  \n",
      "0     25899  \n",
      "1    103549  \n",
      "2     81699  \n",
      "3     76600  \n",
      "4     65600  \n",
      "5     76600  \n",
      "6     69357  \n",
      "7     58227  \n",
      "8     45355  \n",
      "9     37575  \n",
      "10    25688  \n",
      "11    25890  \n",
      "12    23133  \n",
      "13    23441  \n",
      "14    20911  \n",
      "15    19899  \n",
      "16    15841  \n",
      "17    14700  \n",
      "18     None  \n",
      "19    11700  \n",
      "20     8921  \n",
      "21     8066  \n",
      "22     3062  \n",
      "23     2966  \n",
      "24    24798  \n",
      "25    14898  \n",
      "26    17299  \n",
      "27    15799  \n",
      "28    22999  \n",
      "29    79999  \n",
      "30    57825  \n",
      "31    29690  \n",
      "32    77687  \n",
      "33    11098  \n"
     ]
    }
   ],
   "source": [
    "from bs4 import BeautifulSoup\n",
    "import requests\n",
    "import pandas as pd\n",
    "moblinks=[]\n",
    "for x in range(1,3):\n",
    "    r=requests.get(f'https://wholesale.com.np/category/index/mobile-phone-tablets?subcat=MOBILE%20PHONE&page={x}')\n",
    "\n",
    "    soup = BeautifulSoup(r.text,\"lxml\")\n",
    "\n",
    "    moblist=soup.find_all('div',class_='col-sm-4 col-md-3')\n",
    "    # print(moblist)\n",
    "    \n",
    "    for items in moblist:\n",
    "        for moblink in items.find_all('a',href=True):\n",
    "            # print(moblink['href'])\n",
    "            moblinks.append(moblink['href'])\n",
    "# print(len(moblinks))        \n",
    "\n",
    "# testlink='https://wholesale.com.np/product/details/samsung-j7-prime-2016-edition-316.html'\n",
    "\n",
    "phonelist=[]\n",
    "for link in moblinks:\n",
    "    r=requests.get(link)\n",
    "    soup=BeautifulSoup(r.text,'lxml')\n",
    "    try:\n",
    "        tag=soup.find('div',class_='off-ribbon-inner').text.strip()\n",
    "    except:\n",
    "        tag='No off'    \n",
    "    # print(tag)\n",
    "    try:\n",
    "        name=soup.find('h1').text\n",
    "    except:\n",
    "        name='None'\n",
    "            \n",
    "    # print(name)\n",
    "    try:\n",
    "        feature=soup.find('div',class_='main-feature').text.strip()\n",
    "    except:\n",
    "        feature=\"None\"    \n",
    "    # print(feature)\n",
    "    try:\n",
    "        oldprice = (soup.find('strike').text.strip().replace('Rs.','').replace('Rs','').replace(' ','')) if soup.find('strike') else None\n",
    "    except:\n",
    "        oldprice=\"None\"\n",
    "    try:\n",
    "        newprice = (soup.find('input',{'name':'price'})['value'])\n",
    "    except:\n",
    "        newprice=\"None\"    \n",
    "    # print(oldprice)\n",
    "    # print(newprice)\n",
    "    try:\n",
    "        imgurl=soup.find('img',class_='simpleLens-big-image')['src']\n",
    "    except:\n",
    "        imgurl=\"None\"    \n",
    "    # print(imgurl)\n",
    "    category='mobile'\n",
    "    phone={\n",
    "            'tag':tag,\n",
    "            'name':name,\n",
    "            # 'feature':feature,\n",
    "            'oldprice':oldprice,\n",
    "            'newprice':newprice,\n",
    "            # 'category':category,\n",
    "            # 'imgurl':imgurl\n",
    "            }\n",
    "    phonelist.append(phone)\n",
    "\n",
    "    \n",
    "df2=pd.DataFrame(phonelist)\n",
    "print(df2.replace(r'\\n',' ', regex=True) )    "
   ]
  },
  {
   "cell_type": "markdown",
   "metadata": {},
   "source": [
    "Database"
   ]
  },
  {
   "cell_type": "code",
   "execution_count": null,
   "metadata": {},
   "outputs": [],
   "source": [
    "import sqlite3\n",
    "\n",
    "conn=sqlite3.connect(\"scrapped.db\")\n",
    "cursor=conn.cursor()\n",
    "# cursor.execute('''DELETE FROM products''')\n",
    "cursor.execute('''CREATE TABLE IF NOT EXISTS products(tag TEXT,name TEXT,feature TEXT ,oldprice TEXT ,newprice TEXT,category TEXT,imgurl TEXT)''')\n",
    "\n",
    "# df1.to_sql('products', conn, if_exists='append', index=False)\n",
    "\n",
    "# conn.commit()\n",
    "# df2.to_sql('products', conn, if_exists='append', index=False)\n",
    "# conn.commit()\n",
    "df1 = pd.read_sql_query(\"SELECT * FROM products \", conn)\n",
    "# df2 = pd.read_sql_query(\"SELECT * FROM products \", conn)\n",
    "print(df1.replace(r'\\n', ' ', regex=True))\n",
    "# print(df2.replace(r'\\n', ' ', regex=True))\n",
    "conn.close"
   ]
  },
  {
   "cell_type": "markdown",
   "metadata": {},
   "source": [
    "# Read DB and print"
   ]
  },
  {
   "cell_type": "code",
   "execution_count": 37,
   "metadata": {},
   "outputs": [],
   "source": [
    "\n",
    "conn=sqlite3.connect(\"scrapped.db\")\n",
    "cursor=conn.cursor()\n",
    "products=cursor.execute(\"SELECT * FROM products \")\n"
   ]
  }
 ],
 "metadata": {
  "kernelspec": {
   "display_name": "base",
   "language": "python",
   "name": "python3"
  },
  "language_info": {
   "codemirror_mode": {
    "name": "ipython",
    "version": 3
   },
   "file_extension": ".py",
   "mimetype": "text/x-python",
   "name": "python",
   "nbconvert_exporter": "python",
   "pygments_lexer": "ipython3",
   "version": "3.11.5"
  }
 },
 "nbformat": 4,
 "nbformat_minor": 2
}
