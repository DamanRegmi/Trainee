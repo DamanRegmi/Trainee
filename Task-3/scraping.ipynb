{
 "cells": [
  {
   "cell_type": "markdown",
   "metadata": {},
   "source": [
    "# Using function on scrap.ipynb"
   ]
  },
  {
   "cell_type": "markdown",
   "metadata": {},
   "source": [
    "Importing libraries\n"
   ]
  },
  {
   "cell_type": "code",
   "execution_count": 1,
   "metadata": {},
   "outputs": [],
   "source": [
    "from bs4 import BeautifulSoup\n",
    "import requests\n",
    "import pandas as pd\n",
    "import sqlite3\n",
    "\n",
    "session = requests.Session()"
   ]
  },
  {
   "cell_type": "markdown",
   "metadata": {},
   "source": [
    "Details of every products(mobiles and laptops)"
   ]
  },
  {
   "cell_type": "code",
   "execution_count": 2,
   "metadata": {},
   "outputs": [],
   "source": [
    "def extract_product_details(link, category):\n",
    "    try:\n",
    "        r = session.get(link)\n",
    "        soup = BeautifulSoup(r.text, 'lxml')\n",
    "\n",
    "        tag = soup.find('div', class_='off-ribbon-inner').text.strip() if soup.find('div', class_='off-ribbon-inner') else 'No off'\n",
    "        name = soup.find('h1').text.strip() if soup.find('h1') else 'None'\n",
    "        # feature = soup.find('div', class_='main-feature').text.strip() if soup.find('div', class_='main-feature') else None\n",
    "        oldprice = (soup.find('strike').text.strip().replace('Rs.','').replace('Rs','').replace(' ','')) if soup.find('strike') else 0\n",
    "        newprice = int(soup.find('input',{'name':'price'})['value']) if soup.find('input', {'name':'price'}) else   0\n",
    "        imgurl = soup.find('img', class_='simpleLens-big-image')['src'] if soup.find('img', class_='simpleLens-big-image') else 'None'\n",
    "        \n",
    "        product = {\n",
    "            'Tag': tag,\n",
    "            'Name': name,\n",
    "            # 'feature': feature,\n",
    "            'Oldprice': oldprice,\n",
    "            'Newprice': newprice,\n",
    "            'Category': category,\n",
    "            'Imgurl': imgurl\n",
    "        }\n",
    "        return product\n",
    "    except :\n",
    "        print(f\"Error extracting details for {link}\")\n",
    "        return None"
   ]
  },
  {
   "cell_type": "markdown",
   "metadata": {},
   "source": [
    "Links of every products"
   ]
  },
  {
   "cell_type": "code",
   "execution_count": 4,
   "metadata": {},
   "outputs": [],
   "source": [
    "def get_product_links(url, category):\n",
    "    product_links = []\n",
    "    try:\n",
    "        r = session.get(url)\n",
    "        soup = BeautifulSoup(r.text, 'lxml')\n",
    "        box = soup.find_all('div', class_=\"col-sm-4 col-md-3\")\n",
    "\n",
    "        for link in box:\n",
    "            href = link.find('a')['href']\n",
    "            product_links.append(href)\n",
    "\n",
    "        return product_links\n",
    "    except :\n",
    "        print(f\"Error retrieving product links from {url}\")\n",
    "        return []"
   ]
  },
  {
   "cell_type": "markdown",
   "metadata": {},
   "source": [
    "List to store all products"
   ]
  },
  {
   "cell_type": "code",
   "execution_count": 5,
   "metadata": {},
   "outputs": [],
   "source": [
    "all_products = []"
   ]
  },
  {
   "cell_type": "markdown",
   "metadata": {},
   "source": [
    "To scrape laptops"
   ]
  },
  {
   "cell_type": "code",
   "execution_count": null,
   "metadata": {},
   "outputs": [
    {
     "name": "stdout",
     "output_type": "stream",
     "text": [
      "[{'Tag': '2 % off', 'Name': 'HP 240 G4 I5-6200/ 4GB RAM (V3F08PA)', 'Oldprice': '57000', 'Newprice': 56000, 'Category': 'laptop', 'Imgurl': 'https://wholesale.com.np/wholesale_adityaraj_group/public/img/product/57d7d53b36c20_hp i5_1071.jpg'}, {'Tag': '2 % off', 'Name': 'DELL INSPIRON 15 5559-I5-4GB RAM', 'Oldprice': '63990', 'Newprice': 62990, 'Category': 'laptop', 'Imgurl': 'https://wholesale.com.np/wholesale_adityaraj_group/public/img/product/57d7c4fc50198_DELL-5559-PRICE-IN-nepal.jpg'}, {'Tag': '2 % off', 'Name': 'DELL INSPIRON 15 5559-I5-4GB', 'Oldprice': '59990', 'Newprice': 58990, 'Category': 'laptop', 'Imgurl': 'https://wholesale.com.np/wholesale_adityaraj_group/public/img/product/57d7ba04997ff_glossy black_1083.jpg'}, {'Tag': '2 % off', 'Name': 'DELL INPSIRATION 3459 -I5-4GB RAM', 'Oldprice': '54490', 'Newprice': 53490, 'Category': 'laptop', 'Imgurl': 'https://wholesale.com.np/wholesale_adityaraj_group/public/img/product/57d79dbd7b09a_red_1041.jpg'}, {'Tag': '2 % off', 'Name': 'DELL INSPIRON 3558-I3-4GB RAM-500GB HARD DISK', 'Oldprice': '41500', 'Newprice': 40500, 'Category': 'laptop', 'Imgurl': 'https://wholesale.com.np/wholesale_adityaraj_group/public/img/product/57d797a2bda51_3558_1085.jpg'}, {'Tag': '2 % off', 'Name': 'DELL INSPIRON 3458-I3', 'Oldprice': '41490', 'Newprice': 40490, 'Category': 'laptop', 'Imgurl': 'https://wholesale.com.np/wholesale_adityaraj_group/public/img/product/57d793e0a326e_1014941_931.jpg'}, {'Tag': '2 % off', 'Name': 'DELL INSPIRON 11 3147   CELRON WITH TOUCH DISPLAY', 'Oldprice': '41990', 'Newprice': 40990, 'Category': 'laptop', 'Imgurl': 'https://wholesale.com.np/wholesale_adityaraj_group/public/img/product/57d78aacb5d06_IN3147 CDC_617.jpg'}, {'Tag': '3 % off', 'Name': 'DELL INSPIRON 15 3551 / 2 GB RAM / 15.6 DISPLAY', 'Oldprice': '36850', 'Newprice': 35850, 'Category': 'laptop', 'Imgurl': 'https://wholesale.com.np/wholesale_adityaraj_group/public/img/product/57d69dd19ff4f_dellIN15-3551__1__620.jpg'}, {'Tag': '1 % off', 'Name': 'DELL INSPIRON 15 5559 6TH GEN CI7 8GB 1TB 4GB ATI R5 M335 15.6', 'Oldprice': '81400', 'Newprice': 80400, 'Category': 'laptop', 'Imgurl': 'https://wholesale.com.np/wholesale_adityaraj_group/public/img/product/5774a96f6bc3e_dell-0920-5496861-1-zoom.jpg'}, {'Tag': '1 % off', 'Name': 'ACER ASPIRE V13 371', 'Oldprice': '67900', 'Newprice': 66900, 'Category': 'laptop', 'Imgurl': 'https://wholesale.com.np/wholesale_adityaraj_group/public/img/product/5788bc54e3e65_acer-8986-8167861-1-zoom.jpg'}, {'Tag': '3 % off', 'Name': 'ASUS XMA 200', 'Oldprice': '39405', 'Newprice': 38405, 'Category': 'laptop', 'Imgurl': 'https://wholesale.com.np/wholesale_adityaraj_group/public/img/product/5774ac9d65279_beauty.png'}, {'Tag': '1 % off', 'Name': 'HP 242', 'Oldprice': '78750', 'Newprice': 77750, 'Category': 'laptop', 'Imgurl': 'https://wholesale.com.np/wholesale_adityaraj_group/public/img/product/5774b1d2f40f2_E7m11pa_1018.jpg'}, {'Tag': '1 % off', 'Name': 'HP PROBOOK 440', 'Oldprice': '69999', 'Newprice': 68999, 'Category': 'laptop', 'Imgurl': 'https://wholesale.com.np/wholesale_adityaraj_group/public/img/product/5774b554c89cf_Screen Shot 2014-10-21 at 1.07.34 PM_513.png'}, {'Tag': '2 % off', 'Name': 'LENOVO 5080 I5-500', 'Oldprice': '55000', 'Newprice': 54000, 'Category': 'laptop', 'Imgurl': 'https://wholesale.com.np/wholesale_adityaraj_group/public/img/product/5774ba07ddcf6_lenovo 5080_1035.jpg'}, {'Tag': '3 % off', 'Name': 'LENOVO G40 70 | CORE I3 | 500 GB HDD', 'Oldprice': '36590', 'Newprice': 35590, 'Category': 'laptop', 'Imgurl': 'https://wholesale.com.np/wholesale_adityaraj_group/public/img/product/5774d4a00eb16_17-23-57_525.jpg'}, {'Tag': '3 % off', 'Name': 'LENOVO G4080  I3/ 500GB/ BLACK/ 4GB/ WIN10', 'Oldprice': '36990', 'Newprice': 35990, 'Category': 'laptop', 'Imgurl': 'https://wholesale.com.np/wholesale_adityaraj_group/public/img/product/5774d61d4cae1_Untitled-1_644.jpg'}, {'Tag': '3 % off', 'Name': 'LENOVO IDEAPAD 100-I3-500-4-U-WIN10', 'Oldprice': '38000', 'Newprice': 37000, 'Category': 'laptop', 'Imgurl': 'https://wholesale.com.np/wholesale_adityaraj_group/public/img/product/5774d86e080d9_lenovo ideapad_1034.jpg'}, {'Tag': '2 % off', 'Name': 'LENOVO G SERIES', 'Oldprice': '55000', 'Newprice': 54000, 'Category': 'laptop', 'Imgurl': 'https://wholesale.com.np/wholesale_adityaraj_group/public/img/product/5774d9a3f063c_Lenovo_G50_30_Teaser_785.jpg'}, {'Tag': '5 % off', 'Name': 'APPLE MACBOOK PRO 13 INCH 4GB RAM & 500 GB HD', 'Oldprice': '133000', 'Newprice': 127000, 'Category': 'laptop', 'Imgurl': 'https://wholesale.com.np/wholesale_adityaraj_group/public/img/product/577a426b9b33a_Apple-MacBook-Pro-MD101HN-A-1263382-9-7d2c9.jpg'}]\n"
     ]
    }
   ],
   "source": [
    "laptop_links = get_product_links(\"https://wholesale.com.np/category/index/laptops-computers?subcat=LAPTOPS\", \"laptop\")\n",
    "\n",
    "for link in laptop_links:\n",
    "    laptop = extract_product_details(link, \"laptop\")\n",
    "    \n",
    "    all_products.append(laptop)\n"
   ]
  },
  {
   "cell_type": "markdown",
   "metadata": {},
   "source": [
    "To scrape mobiles"
   ]
  },
  {
   "cell_type": "code",
   "execution_count": 10,
   "metadata": {},
   "outputs": [
    {
     "name": "stdout",
     "output_type": "stream",
     "text": [
      "34\n"
     ]
    }
   ],
   "source": [
    "moblinks = []\n",
    "for x in range(1, 3):\n",
    "    mob_links = get_product_links(f'https://wholesale.com.np/category/index/mobile-phone-tablets?subcat=MOBILE%20PHONE&page={x}', \"mobile\")\n",
    "    \n",
    "    moblinks.extend(mob_links)\n",
    "print(len(moblinks))    \n",
    "\n",
    "for link in moblinks:\n",
    "    phone = extract_product_details(link, \"mobile\")\n",
    "   \n",
    "    all_products.append(phone)"
   ]
  },
  {
   "cell_type": "markdown",
   "metadata": {},
   "source": [
    "Creating dataframe "
   ]
  },
  {
   "cell_type": "code",
   "execution_count": 22,
   "metadata": {},
   "outputs": [],
   "source": [
    "df = pd.DataFrame(all_products)"
   ]
  },
  {
   "cell_type": "markdown",
   "metadata": {},
   "source": [
    "# Database"
   ]
  },
  {
   "cell_type": "code",
   "execution_count": 23,
   "metadata": {},
   "outputs": [
    {
     "name": "stdout",
     "output_type": "stream",
     "text": [
      "         Tag                                               Name  Oldprice  \\\n",
      "0    2 % off               HP 240 G4 I5-6200/ 4GB RAM (V3F08PA)     57000   \n",
      "1    2 % off                   DELL INSPIRON 15 5559-I5-4GB RAM     63990   \n",
      "2    2 % off                       DELL INSPIRON 15 5559-I5-4GB     59990   \n",
      "3    2 % off                  DELL INPSIRATION 3459 -I5-4GB RAM     54490   \n",
      "4    2 % off      DELL INSPIRON 3558-I3-4GB RAM-500GB HARD DISK     41500   \n",
      "5    2 % off                              DELL INSPIRON 3458-I3     41490   \n",
      "6    2 % off  DELL INSPIRON 11 3147   CELRON WITH TOUCH DISPLAY     41990   \n",
      "7    3 % off    DELL INSPIRON 15 3551 / 2 GB RAM / 15.6 DISPLAY     36850   \n",
      "8    1 % off  DELL INSPIRON 15 5559 6TH GEN CI7 8GB 1TB 4GB ...     81400   \n",
      "9    1 % off                                ACER ASPIRE V13 371     67900   \n",
      "10   3 % off                                       ASUS XMA 200     39405   \n",
      "11   1 % off                                             HP 242     78750   \n",
      "12   1 % off                                     HP PROBOOK 440     69999   \n",
      "13   2 % off                                 LENOVO 5080 I5-500     55000   \n",
      "14   3 % off               LENOVO G40 70 | CORE I3 | 500 GB HDD     36590   \n",
      "15   3 % off         LENOVO G4080  I3/ 500GB/ BLACK/ 4GB/ WIN10     36990   \n",
      "16   3 % off                LENOVO IDEAPAD 100-I3-500-4-U-WIN10     38000   \n",
      "17   2 % off                                    LENOVO G SERIES     55000   \n",
      "18   5 % off      APPLE MACBOOK PRO 13 INCH 4GB RAM & 500 GB HD    133000   \n",
      "19  12 % off                                   SAMSUNG J7 PRIME     29400   \n",
      "20   9 % off                                      IPHONE 7 PLUS    113550   \n",
      "21  12 % off                                           IPHONE 7     92550   \n",
      "22  14 % off  SAMSUNG GALAXY S7 EDGE  (SM-G935FD)  5\" /32GB ...     88900   \n",
      "23  16 % off                GALAXY S7 (SM-G930FD) 32GB/4GB/12MP     77900   \n",
      "24  12 % off  SAMSUNG GALAXY NOTE 5 DUOS (N9208) 4GB/32GB/ 16MP     86900   \n",
      "25   3 % off   SAMSUNG (G925I) S6 EDGE  5.1″ / 32GB / 3GB /16MP     69657   \n",
      "26   2 % off      SAMSUNG (G920)S6 FLAT 5.1″ / 32GB / 3GB /16MP     59427   \n",
      "27  11 % off  SAMSUNG GALAXY A7 2016 EDITION (A710F)  2GB /1...     50900   \n",
      "28  10 % off             SAMSUNG GALAXY A5 2016 EDITION (A510F)     41900   \n",
      "29   8 % off  SAMSUNG TABLET T561 (TAB E 9.6\") /  2GB RAM/ 8...     27990   \n",
      "30   8 % off  SAMSUNG J7 2016 EDITION (J710F)  16 GB / 2GB R...     27990   \n",
      "31   9 % off  SAMSUNG J5 2016 EDITION (J510F)  16 GB / 2GB R...     25490   \n",
      "32   1 % off  SAMSUNG A5 (A5000H) / 2GB RAM/ 13MP CAMERA /16...     23741   \n",
      "33   9 % off                                 SAMSUNG J7 (J700H)     22900   \n",
      "34   9 % off                           SAMSUNG TAB J MAX (T285)     21900   \n",
      "35   2 % off                            SAMSUNG J3 (J320F) 2016     16141   \n",
      "36  11 % off                              SAMSUNG TAB 3V (T116)     16590   \n",
      "37    No off                                               None         0   \n",
      "38   9 % off                                 SAMSUNG J200H (J2)     12900   \n",
      "39   9 % off                             SAMSUNG J110H (J1 ACE)      9000   \n",
      "40   9 % off                         SAMSUNG G318HZ (ACE NXT 2)      9000   \n",
      "41  74 % off                             SAMSUNG B350E (BANYAN)      3500   \n",
      "42    No off                               SAMSUNG B312E (BRIO)      3062   \n",
      "43   5 % off                          HUAWEI P8 LITE SMARTPHONE     25999   \n",
      "44   7 % off                XIAOMI REDMI 2 PRO GREY SMART PHONE     15999   \n",
      "45   9 % off                         XIAOMI MI 4 3GB/16GB WHITE     18999   \n",
      "46  21 % off  GIONEE MARATHON M5 LITE WITH 3 GB RAM AND 32 G...     19950   \n",
      "47  21 % off         XIAOMI REDMI NOTE 3 3GB/32GB DUAL SIM GRAY     29000   \n",
      "48  38 % off                                    IPHONE 6S 64 GB    130000   \n",
      "49   1 % off                         SAMSUNG GALAXY ALPHA-G850Y     58125   \n",
      "50   1 % off                       SAMSUNG GALAXY S4 (GT-19500)     29990   \n",
      "51   3 % off                      SAMSUNG GALAXY NOTE 4 - N910H     79887   \n",
      "52  26 % off                          SAMSUNG GALAXY J5 - J500H     14999   \n",
      "\n",
      "    Newprice Category                                             Imgurl  \n",
      "0      56000   laptop  https://wholesale.com.np/wholesale_adityaraj_g...  \n",
      "1      62990   laptop  https://wholesale.com.np/wholesale_adityaraj_g...  \n",
      "2      58990   laptop  https://wholesale.com.np/wholesale_adityaraj_g...  \n",
      "3      53490   laptop  https://wholesale.com.np/wholesale_adityaraj_g...  \n",
      "4      40500   laptop  https://wholesale.com.np/wholesale_adityaraj_g...  \n",
      "5      40490   laptop  https://wholesale.com.np/wholesale_adityaraj_g...  \n",
      "6      40990   laptop  https://wholesale.com.np/wholesale_adityaraj_g...  \n",
      "7      35850   laptop  https://wholesale.com.np/wholesale_adityaraj_g...  \n",
      "8      80400   laptop  https://wholesale.com.np/wholesale_adityaraj_g...  \n",
      "9      66900   laptop  https://wholesale.com.np/wholesale_adityaraj_g...  \n",
      "10     38405   laptop  https://wholesale.com.np/wholesale_adityaraj_g...  \n",
      "11     77750   laptop  https://wholesale.com.np/wholesale_adityaraj_g...  \n",
      "12     68999   laptop  https://wholesale.com.np/wholesale_adityaraj_g...  \n",
      "13     54000   laptop  https://wholesale.com.np/wholesale_adityaraj_g...  \n",
      "14     35590   laptop  https://wholesale.com.np/wholesale_adityaraj_g...  \n",
      "15     35990   laptop  https://wholesale.com.np/wholesale_adityaraj_g...  \n",
      "16     37000   laptop  https://wholesale.com.np/wholesale_adityaraj_g...  \n",
      "17     54000   laptop  https://wholesale.com.np/wholesale_adityaraj_g...  \n",
      "18    127000   laptop  https://wholesale.com.np/wholesale_adityaraj_g...  \n",
      "19     25899   mobile  https://wholesale.com.np/wholesale_adityaraj_g...  \n",
      "20    103549   mobile  https://wholesale.com.np/wholesale_adityaraj_g...  \n",
      "21     81699   mobile  https://wholesale.com.np/wholesale_adityaraj_g...  \n",
      "22     76600   mobile  https://wholesale.com.np/wholesale_adityaraj_g...  \n",
      "23     65600   mobile  https://wholesale.com.np/wholesale_adityaraj_g...  \n",
      "24     76600   mobile  https://wholesale.com.np/wholesale_adityaraj_g...  \n",
      "25     69357   mobile  https://wholesale.com.np/wholesale_adityaraj_g...  \n",
      "26     58227   mobile  https://wholesale.com.np/wholesale_adityaraj_g...  \n",
      "27     45355   mobile  https://wholesale.com.np/wholesale_adityaraj_g...  \n",
      "28     37575   mobile  https://wholesale.com.np/wholesale_adityaraj_g...  \n",
      "29     25688   mobile  https://wholesale.com.np/wholesale_adityaraj_g...  \n",
      "30     25890   mobile  https://wholesale.com.np/wholesale_adityaraj_g...  \n",
      "31     23133   mobile  https://wholesale.com.np/wholesale_adityaraj_g...  \n",
      "32     23441   mobile  https://wholesale.com.np/wholesale_adityaraj_g...  \n",
      "33     20911   mobile  https://wholesale.com.np/wholesale_adityaraj_g...  \n",
      "34     19899   mobile  https://wholesale.com.np/wholesale_adityaraj_g...  \n",
      "35     15841   mobile  https://wholesale.com.np/wholesale_adityaraj_g...  \n",
      "36     14700   mobile  https://wholesale.com.np/wholesale_adityaraj_g...  \n",
      "37         0   mobile                                               None  \n",
      "38     11700   mobile  https://wholesale.com.np/wholesale_adityaraj_g...  \n",
      "39      8921   mobile  https://wholesale.com.np/wholesale_adityaraj_g...  \n",
      "40      8066   mobile  https://wholesale.com.np/wholesale_adityaraj_g...  \n",
      "41      3062   mobile  https://wholesale.com.np/wholesale_adityaraj_g...  \n",
      "42      2966   mobile  https://wholesale.com.np/wholesale_adityaraj_g...  \n",
      "43     24798   mobile  https://wholesale.com.np/wholesale_adityaraj_g...  \n",
      "44     14898   mobile  https://wholesale.com.np/wholesale_adityaraj_g...  \n",
      "45     17299   mobile  https://wholesale.com.np/wholesale_adityaraj_g...  \n",
      "46     15799   mobile  https://wholesale.com.np/wholesale_adityaraj_g...  \n",
      "47     22999   mobile  https://wholesale.com.np/wholesale_adityaraj_g...  \n",
      "48     79999   mobile  https://wholesale.com.np/wholesale_adityaraj_g...  \n",
      "49     57825   mobile  https://wholesale.com.np/wholesale_adityaraj_g...  \n",
      "50     29690   mobile  https://wholesale.com.np/wholesale_adityaraj_g...  \n",
      "51     77687   mobile  https://wholesale.com.np/wholesale_adityaraj_g...  \n",
      "52     11098   mobile  https://wholesale.com.np/wholesale_adityaraj_g...  \n"
     ]
    }
   ],
   "source": [
    "conn=sqlite3.connect(\"scrapped.db\")\n",
    "cursor=conn.cursor()\n",
    "# cursor.execute('''DELETE FROM products''')\n",
    "cursor.execute('''CREATE TABLE IF NOT EXISTS products(Tag TEXT,Name TEXT,Oldprice INTEGER ,Newprice INTEGER,Category TEXT,Imgurl TEXT)''')\n",
    "\n",
    "df.to_sql('products', conn, if_exists='append', index=False)\n",
    "\n",
    "conn.commit()\n",
    "\n",
    "df = pd.read_sql_query(\"SELECT * FROM products \", conn)\n",
    "print(df.replace(r'\\n', ' ', regex=True))\n",
    "conn.close()"
   ]
  },
  {
   "cell_type": "markdown",
   "metadata": {},
   "source": [
    "# Saving as CSV"
   ]
  },
  {
   "cell_type": "code",
   "execution_count": 24,
   "metadata": {},
   "outputs": [],
   "source": [
    "df.to_csv('scrapped_products.csv',index=False)"
   ]
  }
 ],
 "metadata": {
  "kernelspec": {
   "display_name": "base",
   "language": "python",
   "name": "python3"
  },
  "language_info": {
   "codemirror_mode": {
    "name": "ipython",
    "version": 3
   },
   "file_extension": ".py",
   "mimetype": "text/x-python",
   "name": "python",
   "nbconvert_exporter": "python",
   "pygments_lexer": "ipython3",
   "version": "3.11.5"
  }
 },
 "nbformat": 4,
 "nbformat_minor": 2
}
